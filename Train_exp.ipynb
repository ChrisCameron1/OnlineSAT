{
 "cells": [
  {
   "cell_type": "code",
   "execution_count": 359,
   "metadata": {},
   "outputs": [],
   "source": [
    "import numpy as np\n",
    "from torch.utils.data import Dataset\n",
    "import torch.nn as nn\n",
    "import torch\n",
    "from torch.autograd import Variable\n",
    "import glob"
   ]
  },
  {
   "cell_type": "code",
   "execution_count": 360,
   "metadata": {},
   "outputs": [],
   "source": [
    "import exchangable_tensor\n",
    "from exchangable_tensor.sp_layers import mean_pool, SparsePool, SparseExchangeable, SparseSequential"
   ]
  },
  {
   "cell_type": "code",
   "execution_count": 361,
   "metadata": {},
   "outputs": [],
   "source": [
    "reload(exchangable_tensor.sp_layers)\n",
    "SparsePool = exchangable_tensor.sp_layers.SparsePool\n",
    "SparseExchangeable = exchangable_tensor.sp_layers.SparseExchangeable\n",
    "SparseSequential = exchangable_tensor.sp_layers.SparseSequential"
   ]
  },
  {
   "cell_type": "code",
   "execution_count": 362,
   "metadata": {},
   "outputs": [],
   "source": [
    "from data.loader import IndexIterator\n",
    "from data.samplers import ConditionalSampler, UniformSampler\n",
    "from data import prep, collate_fn, CompletionDataset"
   ]
  },
  {
   "cell_type": "code",
   "execution_count": 363,
   "metadata": {},
   "outputs": [],
   "source": [
    "use_cuda = False"
   ]
  },
  {
   "cell_type": "code",
   "execution_count": 364,
   "metadata": {},
   "outputs": [],
   "source": [
    "def prep_data(x, requires_grad=False, use_cuda=True):\n",
    "    '''\n",
    "    Helper function for setting up data variables\n",
    "    '''\n",
    "    x = Variable(x, requires_grad=requires_grad)\n",
    "    if use_cuda:\n",
    "        x = x.cuda()\n",
    "    return x"
   ]
  },
  {
   "cell_type": "code",
   "execution_count": 8,
   "metadata": {},
   "outputs": [],
   "source": [
    "id = 2125\n",
    "dat = np.load(\"data/sat_%06d.npz\" % id)"
   ]
  },
  {
   "cell_type": "code",
   "execution_count": 11,
   "metadata": {},
   "outputs": [
    {
     "data": {
      "text/plain": [
       "['indices', 'y_unsat', 'values', 'y_sat']"
      ]
     },
     "execution_count": 11,
     "metadata": {},
     "output_type": "execute_result"
    }
   ],
   "source": [
    "dat.keys()"
   ]
  },
  {
   "cell_type": "code",
   "execution_count": 28,
   "metadata": {},
   "outputs": [],
   "source": [
    "class SATDataset(Dataset):\n",
    "    '''\n",
    "    A dataset object for holding \n",
    "    '''\n",
    "    def __init__(self, values, index, y_sat, y_unsat):\n",
    "        self.index = np.array(index, dtype=\"int\")\n",
    "        self.y_sat = np.array(y_sat, dtype=\"int\")\n",
    "        self.y_unsat = np.array(y_unsat, dtype=\"int\")\n",
    "        self.values = np.array(values, dtype=\"float32\").reshape(index.shape[0], -1) # ensure 2D\n",
    "\n",
    "    def __len__(self):\n",
    "        return self.index.shape[0]\n",
    "\n",
    "    def __getitem__(self, index):\n",
    "        return {\"index\": self.index[index, :], \n",
    "                \"input\": self.values[index, :], \n",
    "                \"target\": self.y_sat[index],\n",
    "                \"unsat\": self.y_unsat[index]}"
   ]
  },
  {
   "cell_type": "code",
   "execution_count": 357,
   "metadata": {},
   "outputs": [],
   "source": [
    "files = glob.glob(\"data/sat*\")"
   ]
  },
  {
   "cell_type": "code",
   "execution_count": 350,
   "metadata": {},
   "outputs": [],
   "source": [
    "def load_data(path, validation=0., seed=None):\n",
    "    data = np.load(path)\n",
    "    values = data['values']\n",
    "    indices = data['indices']\n",
    "    y_sat = data['y_sat']\n",
    "    y_unsat = data['y_unsat']\n",
    "    return SATDataset(values, indices, y_sat, y_unsat)\n",
    "\n"
   ]
  },
  {
   "cell_type": "code",
   "execution_count": 351,
   "metadata": {},
   "outputs": [],
   "source": [
    "from torch.nn.init import xavier_uniform, normal"
   ]
  },
  {
   "cell_type": "code",
   "execution_count": 352,
   "metadata": {},
   "outputs": [
    {
     "data": {
      "text/plain": [
       "Sequential(\n",
       "  (0): SparseSequential(\n",
       "    (layers): ModuleList(\n",
       "      (0): SparseExchangeable(\n",
       "        (linear): Linear(in_features=8, out_features=250, bias=True)\n",
       "        (row_pool): SparsePool(\n",
       "        )\n",
       "        (col_pool): SparsePool(\n",
       "        )\n",
       "      )\n",
       "      (1): LeakyReLU(0.01)\n",
       "      (2): SparseExchangeable(\n",
       "        (linear): Linear(in_features=1000, out_features=250, bias=True)\n",
       "        (row_pool): SparsePool(\n",
       "        )\n",
       "        (col_pool): SparsePool(\n",
       "        )\n",
       "      )\n",
       "      (3): LeakyReLU(0.01)\n",
       "      (4): SparseExchangeable(\n",
       "        (linear): Linear(in_features=1000, out_features=150, bias=True)\n",
       "        (row_pool): SparsePool(\n",
       "        )\n",
       "        (col_pool): SparsePool(\n",
       "        )\n",
       "      )\n",
       "      (5): LeakyReLU(0.01)\n",
       "      (6): SparseExchangeable(\n",
       "        (linear): Linear(in_features=600, out_features=150, bias=True)\n",
       "        (row_pool): SparsePool(\n",
       "        )\n",
       "        (col_pool): SparsePool(\n",
       "        )\n",
       "      )\n",
       "      (7): LeakyReLU(0.01)\n",
       "      (8): SparseExchangeable(\n",
       "        (linear): Linear(in_features=600, out_features=32, bias=True)\n",
       "        (row_pool): SparsePool(\n",
       "        )\n",
       "        (col_pool): SparsePool(\n",
       "        )\n",
       "      )\n",
       "      (9): SparsePool(\n",
       "      )\n",
       "    )\n",
       "  )\n",
       "  (1): Linear(in_features=32, out_features=16, bias=True)\n",
       "  (2): LeakyReLU(0.01)\n",
       "  (3): Dropout(p=0.2)\n",
       "  (4): Linear(in_features=16, out_features=1, bias=True)\n",
       "  (5): Sigmoid()\n",
       ")"
      ]
     },
     "execution_count": 352,
     "metadata": {},
     "output_type": "execute_result"
    }
   ],
   "source": [
    "dat = load_data(files[0])\n",
    "\n",
    "index = prep(dat.index, dtype=\"int\")\n",
    "index = index.cuda()\n",
    "\n",
    "out_dim = 32\n",
    "enc = SparseSequential(index, \n",
    "                       SparseExchangeable(2,250, index), \n",
    "                       nn.LeakyReLU(),\n",
    "                      # torch.nn.Dropout(p=0.5),\n",
    "                       SparseExchangeable(250,250, index),\n",
    "                       nn.LeakyReLU(),\n",
    "                       SparseExchangeable(250,150, index),\n",
    "                       nn.LeakyReLU(),\n",
    "                       #torch.nn.Dropout(p=0.5),\n",
    "                       SparseExchangeable(150,150, index),\n",
    "                       nn.LeakyReLU(),\n",
    "                       #torch.nn.Dropout(p=0.5),\n",
    "                       SparseExchangeable(150,out_dim, index),\n",
    "                       SparsePool(index, out_dim, 1, keep_dims=False)\n",
    "                   )\n",
    "mod = torch.nn.Sequential(enc,\n",
    "                          torch.nn.Linear(in_features=out_dim, out_features=16),\n",
    "                          nn.LeakyReLU(),\n",
    "                          torch.nn.Dropout(p=0.5),\n",
    "                          torch.nn.Linear(in_features=16, out_features=1),\n",
    "                          nn.Sigmoid())\n",
    "\n",
    "\n",
    "#torch.nn.init.xavier_normal(w)\n",
    "\n",
    "# as direct access to tensors data attribute\n",
    "def weights_init(m):\n",
    "    if isinstance(m, nn.Linear):\n",
    "        xavier_uniform(m.weight.data)\n",
    "        #m.weight.data.normal_(0.0, 0.02)\n",
    "\n",
    "\n",
    "mod.apply(weights_init)\n",
    "mod.cuda()"
   ]
  },
  {
   "cell_type": "code",
   "execution_count": 353,
   "metadata": {},
   "outputs": [],
   "source": [
    "loss = nn.BCELoss()\n",
    "optimizer = torch.optim.Adam(mod.parameters(), lr=0.001)"
   ]
  },
  {
   "cell_type": "code",
   "execution_count": 354,
   "metadata": {},
   "outputs": [],
   "source": [
    "perf = []\n",
    "batch_size = 100"
   ]
  },
  {
   "cell_type": "code",
   "execution_count": 358,
   "metadata": {},
   "outputs": [
    {
     "data": {
      "text/plain": [
       "19946"
      ]
     },
     "execution_count": 358,
     "metadata": {},
     "output_type": "execute_result"
    }
   ],
   "source": [
    "len(files)"
   ]
  },
  {
   "cell_type": "code",
   "execution_count": 347,
   "metadata": {},
   "outputs": [],
   "source": [
    "#mod = torch.load('./firstmod.pt')"
   ]
  },
  {
   "cell_type": "code",
   "execution_count": 355,
   "metadata": {},
   "outputs": [
    {
     "name": "stdout",
     "output_type": "stream",
     "text": [
      "0 0.6947706 0.5015\n",
      "1 0.6972311 0.5005\n",
      "2 0.6965185 0.5059999999999998\n",
      "3 0.6981803 0.4890000000000001\n",
      "4 0.7037452 0.5025000000000001\n",
      "5 0.6923251 0.41849999999999987\n",
      "6 0.69090664 0.47800000000000004\n",
      "7 0.6885369 0.47799999999999976\n",
      "8 0.68840015 0.455\n",
      "9 0.68788797 0.4790000000000002\n",
      "10 0.6876102 0.44050000000000034\n",
      "11 0.6877117 0.4759999999999999\n",
      "12 0.68319714 0.4125000000000001\n",
      "13 0.6768598 0.3975\n",
      "14 0.6765159 0.40099999999999986\n",
      "15 0.66746503 0.3525\n"
     ]
    },
    {
     "ename": "KeyboardInterrupt",
     "evalue": "",
     "output_type": "error",
     "traceback": [
      "\u001b[0;31m---------------------------------------------------------------------------\u001b[0m",
      "\u001b[0;31mKeyboardInterrupt\u001b[0m                         Traceback (most recent call last)",
      "\u001b[0;32m<ipython-input-355-c1bc15036371>\u001b[0m in \u001b[0;36m<module>\u001b[0;34m()\u001b[0m\n\u001b[1;32m      6\u001b[0m     \u001b[0;32mfor\u001b[0m \u001b[0m_\u001b[0m \u001b[0;32min\u001b[0m \u001b[0mxrange\u001b[0m\u001b[0;34m(\u001b[0m\u001b[0mbatch_size\u001b[0m\u001b[0;34m)\u001b[0m\u001b[0;34m:\u001b[0m\u001b[0;34m\u001b[0m\u001b[0m\n\u001b[1;32m      7\u001b[0m         \u001b[0mi\u001b[0m \u001b[0;34m=\u001b[0m \u001b[0mnp\u001b[0m\u001b[0;34m.\u001b[0m\u001b[0mrandom\u001b[0m\u001b[0;34m.\u001b[0m\u001b[0mrandint\u001b[0m\u001b[0;34m(\u001b[0m\u001b[0;36m0\u001b[0m\u001b[0;34m,\u001b[0m \u001b[0mlen\u001b[0m\u001b[0;34m(\u001b[0m\u001b[0mfiles\u001b[0m\u001b[0;34m)\u001b[0m\u001b[0;34m)\u001b[0m\u001b[0;34m\u001b[0m\u001b[0m\n\u001b[0;32m----> 8\u001b[0;31m         \u001b[0mdat\u001b[0m \u001b[0;34m=\u001b[0m \u001b[0mload_data\u001b[0m\u001b[0;34m(\u001b[0m\u001b[0mfiles\u001b[0m\u001b[0;34m[\u001b[0m\u001b[0mi\u001b[0m\u001b[0;34m]\u001b[0m\u001b[0;34m)\u001b[0m\u001b[0;34m\u001b[0m\u001b[0m\n\u001b[0m\u001b[1;32m      9\u001b[0m         \u001b[0minput\u001b[0m \u001b[0;34m=\u001b[0m \u001b[0mprep_data\u001b[0m\u001b[0;34m(\u001b[0m\u001b[0mtorch\u001b[0m\u001b[0;34m.\u001b[0m\u001b[0mfrom_numpy\u001b[0m\u001b[0;34m(\u001b[0m\u001b[0mdat\u001b[0m\u001b[0;34m.\u001b[0m\u001b[0mvalues\u001b[0m\u001b[0;34m)\u001b[0m\u001b[0;34m)\u001b[0m\u001b[0;34m\u001b[0m\u001b[0m\n\u001b[1;32m     10\u001b[0m         \u001b[0mindex\u001b[0m \u001b[0;34m=\u001b[0m \u001b[0mprep_data\u001b[0m\u001b[0;34m(\u001b[0m\u001b[0mtorch\u001b[0m\u001b[0;34m.\u001b[0m\u001b[0mfrom_numpy\u001b[0m\u001b[0;34m(\u001b[0m\u001b[0mdat\u001b[0m\u001b[0;34m.\u001b[0m\u001b[0mindex\u001b[0m\u001b[0;34m)\u001b[0m\u001b[0;34m)\u001b[0m\u001b[0;34m\u001b[0m\u001b[0m\n",
      "\u001b[0;32m<ipython-input-350-bfc88e04fa8c>\u001b[0m in \u001b[0;36mload_data\u001b[0;34m(path, validation, seed)\u001b[0m\n\u001b[1;32m      1\u001b[0m \u001b[0;32mdef\u001b[0m \u001b[0mload_data\u001b[0m\u001b[0;34m(\u001b[0m\u001b[0mpath\u001b[0m\u001b[0;34m,\u001b[0m \u001b[0mvalidation\u001b[0m\u001b[0;34m=\u001b[0m\u001b[0;36m0.\u001b[0m\u001b[0;34m,\u001b[0m \u001b[0mseed\u001b[0m\u001b[0;34m=\u001b[0m\u001b[0mNone\u001b[0m\u001b[0;34m)\u001b[0m\u001b[0;34m:\u001b[0m\u001b[0;34m\u001b[0m\u001b[0m\n\u001b[0;32m----> 2\u001b[0;31m     \u001b[0mdata\u001b[0m \u001b[0;34m=\u001b[0m \u001b[0mnp\u001b[0m\u001b[0;34m.\u001b[0m\u001b[0mload\u001b[0m\u001b[0;34m(\u001b[0m\u001b[0mpath\u001b[0m\u001b[0;34m)\u001b[0m\u001b[0;34m\u001b[0m\u001b[0m\n\u001b[0m\u001b[1;32m      3\u001b[0m     \u001b[0mvalues\u001b[0m \u001b[0;34m=\u001b[0m \u001b[0mdata\u001b[0m\u001b[0;34m[\u001b[0m\u001b[0;34m'values'\u001b[0m\u001b[0;34m]\u001b[0m\u001b[0;34m\u001b[0m\u001b[0m\n\u001b[1;32m      4\u001b[0m     \u001b[0mindices\u001b[0m \u001b[0;34m=\u001b[0m \u001b[0mdata\u001b[0m\u001b[0;34m[\u001b[0m\u001b[0;34m'indices'\u001b[0m\u001b[0;34m]\u001b[0m\u001b[0;34m\u001b[0m\u001b[0m\n\u001b[1;32m      5\u001b[0m     \u001b[0my_sat\u001b[0m \u001b[0;34m=\u001b[0m \u001b[0mdata\u001b[0m\u001b[0;34m[\u001b[0m\u001b[0;34m'y_sat'\u001b[0m\u001b[0;34m]\u001b[0m\u001b[0;34m\u001b[0m\u001b[0m\n",
      "\u001b[0;32m/ubc/cs/project/arrow/jasonhar/.virtualenvs/exchtensor/lib/python2.7/site-packages/numpy/lib/npyio.pyc\u001b[0m in \u001b[0;36mload\u001b[0;34m(file, mmap_mode, allow_pickle, fix_imports, encoding)\u001b[0m\n\u001b[1;32m    370\u001b[0m     \u001b[0mown_fid\u001b[0m \u001b[0;34m=\u001b[0m \u001b[0mFalse\u001b[0m\u001b[0;34m\u001b[0m\u001b[0m\n\u001b[1;32m    371\u001b[0m     \u001b[0;32mif\u001b[0m \u001b[0misinstance\u001b[0m\u001b[0;34m(\u001b[0m\u001b[0mfile\u001b[0m\u001b[0;34m,\u001b[0m \u001b[0mbasestring\u001b[0m\u001b[0;34m)\u001b[0m\u001b[0;34m:\u001b[0m\u001b[0;34m\u001b[0m\u001b[0m\n\u001b[0;32m--> 372\u001b[0;31m         \u001b[0mfid\u001b[0m \u001b[0;34m=\u001b[0m \u001b[0mopen\u001b[0m\u001b[0;34m(\u001b[0m\u001b[0mfile\u001b[0m\u001b[0;34m,\u001b[0m \u001b[0;34m\"rb\"\u001b[0m\u001b[0;34m)\u001b[0m\u001b[0;34m\u001b[0m\u001b[0m\n\u001b[0m\u001b[1;32m    373\u001b[0m         \u001b[0mown_fid\u001b[0m \u001b[0;34m=\u001b[0m \u001b[0mTrue\u001b[0m\u001b[0;34m\u001b[0m\u001b[0m\n\u001b[1;32m    374\u001b[0m     \u001b[0;32melif\u001b[0m \u001b[0mis_pathlib_path\u001b[0m\u001b[0;34m(\u001b[0m\u001b[0mfile\u001b[0m\u001b[0;34m)\u001b[0m\u001b[0;34m:\u001b[0m\u001b[0;34m\u001b[0m\u001b[0m\n",
      "\u001b[0;31mKeyboardInterrupt\u001b[0m: "
     ]
    }
   ],
   "source": [
    "for epoch in xrange(100000):\n",
    "    enc.train()\n",
    "    optimizer.zero_grad()\n",
    "    loss_batch = 0.\n",
    "    av_acc = 0.\n",
    "    for _ in xrange(batch_size):\n",
    "        i = np.random.randint(0, len(files))\n",
    "        dat = load_data(files[i])\n",
    "        input = prep_data(torch.from_numpy(dat.values))\n",
    "        index = prep_data(torch.from_numpy(dat.index))\n",
    "        enc.index = index\n",
    "        input = input.cuda()\n",
    "        y_sat = dat.y_sat[:,0]\n",
    "        y_sat[y_sat == -1] = 0\n",
    "        target = prep_data(torch.from_numpy(y_sat))\n",
    "        target = target.cuda()\n",
    "        out = mod(input)\n",
    "        loss_i = loss(out, target.float())\n",
    "        loss_batch = loss_batch + loss_i\n",
    "        acc = np.mean(np.abs(np.round(out.cpu().data.numpy()).flatten() - y_sat))\n",
    "        av_acc += acc\n",
    "        #print(acc)\n",
    "        #print(loss_i.cpu().data.numpy())\n",
    "        #print(np.array(np.round(out.cpu().data.numpy()).flatten(), \"int\"))\n",
    "        #print(y_sat)\n",
    "    av_acc = av_acc / (1. * batch_size)\n",
    "    loss_batch = loss_batch / (1.* batch_size)\n",
    "    if epoch % 1 == 0:\n",
    "        p_loss = loss_batch.cpu().data.numpy()[0]\n",
    "        print epoch, p_loss, av_acc\n",
    "        perf.append(p_loss)\n",
    "    loss_batch.backward()\n",
    "    optimizer.step()\n",
    "    "
   ]
  },
  {
   "cell_type": "code",
   "execution_count": 245,
   "metadata": {},
   "outputs": [],
   "source": [
    "def is_sat(X, y):\n",
    "    test = X.dot(y) == -3\n",
    "    return test.sum(axis=0) == 0"
   ]
  },
  {
   "cell_type": "code",
   "execution_count": null,
   "metadata": {},
   "outputs": [],
   "source": [
    "n = 2000000\n",
    "variables = 20\n",
    "clauses = int(4.258 * variables + 58.26 * variables **(-2/3))\n",
    "k = 3\n",
    "n_examples = 50000\n",
    "\n",
    "for item in tqdm(xrange(n_examples)):\n",
    "    a = cnfformula.RandomKCNF(k=k,n=variables,m=clauses)\n",
    "    X = csr_matrix((clauses, variables), dtype=\"int\")\n",
    "\n",
    "    indices = []\n",
    "    values = []\n",
    "\n",
    "    for i, clause in enumerate(a.clauses()):\n",
    "        for term in clause:\n",
    "            v_i = int(term[1].split(\"_\")[1]) - 1\n",
    "            v_v = -(1 - 2*int(term[0]))\n",
    "            X[i, v_i] = v_v\n",
    "            indices.append([i,v_i])\n",
    "            v = [1,0] if v_v == 1 else [0, 1]\n",
    "            values.append(v)\n",
    "    indices = np.array(indices)\n",
    "    values = np.array(values)\n",
    "\n",
    "    t = time.time()\n",
    "    y = 1 - 2 * np.random.randint(0, 2, [variables, n])\n",
    "    test = X.dot(y) == -3\n",
    "    is_sat = test.sum(axis=0) == 0\n",
    "    y_sat = y[:, is_sat]\n",
    "    y_unsat = y[:, np.logical_not(is_sat)][:, 0:200]\n",
    "    sat = \"sat\" if np.sum(test.sum(axis=0) == 0) > 0 else \"unsat\"\n",
    "    np.savez_compressed(\"data/%s_%06d.npz\" % (sat, item),\n",
    "                        indices=indices, values=values,\n",
    "                        y_sat=y_sat, y_unsat=y_unsat)"
   ]
  },
  {
   "cell_type": "code",
   "execution_count": 250,
   "metadata": {},
   "outputs": [],
   "source": [
    "from scipy.sparse import csr_matrix"
   ]
  },
  {
   "cell_type": "code",
   "execution_count": 344,
   "metadata": {},
   "outputs": [],
   "source": [
    "torch.save(mod, 'firstmod.pt')\n",
    "#model = torch.load('firstmod.pt')"
   ]
  },
  {
   "cell_type": "code",
   "execution_count": 253,
   "metadata": {},
   "outputs": [
    {
     "data": {
      "text/plain": [
       "array([87, 19])"
      ]
     },
     "execution_count": 253,
     "metadata": {},
     "output_type": "execute_result"
    }
   ],
   "source": [
    "dat.index.max(axis=0)"
   ]
  },
  {
   "cell_type": "code",
   "execution_count": 257,
   "metadata": {},
   "outputs": [],
   "source": [
    "#np.dot(dat.values, np.array([[1], [-1]]))\n",
    "X_sp = csr_matrix((np.dot(dat.values, np.array([[1], [-1]])).flatten(), \n",
    "                  (dat.index[:, 0],dat.index[:, 1])), \n",
    "                  shape=dat.index.max(axis=0) + 1)"
   ]
  },
  {
   "cell_type": "code",
   "execution_count": 269,
   "metadata": {},
   "outputs": [
    {
     "data": {
      "text/plain": [
       "False"
      ]
     },
     "execution_count": 269,
     "metadata": {},
     "output_type": "execute_result"
    }
   ],
   "source": [
    "is_sat(X_sp, y.cpu().data.numpy().flatten().round())"
   ]
  },
  {
   "cell_type": "code",
   "execution_count": null,
   "metadata": {},
   "outputs": [],
   "source": []
  },
  {
   "cell_type": "code",
   "execution_count": 341,
   "metadata": {},
   "outputs": [],
   "source": [
    "len(files)\n",
    "new_files = glob.glob(\"data/sat*\")\n",
    "new_files = list(set(new_files).difference(set(files)))"
   ]
  },
  {
   "cell_type": "code",
   "execution_count": 340,
   "metadata": {},
   "outputs": [
    {
     "data": {
      "text/plain": [
       "13447"
      ]
     },
     "execution_count": 340,
     "metadata": {},
     "output_type": "execute_result"
    }
   ],
   "source": [
    "len(set(new_files).difference(set(files)))"
   ]
  },
  {
   "cell_type": "code",
   "execution_count": 343,
   "metadata": {},
   "outputs": [
    {
     "name": "stdout",
     "output_type": "stream",
     "text": [
      "0.04\n"
     ]
    }
   ],
   "source": [
    "mod.eval()\n",
    "#i = np.random.randint(0, len(files))\n",
    "i = 0\n",
    "perc_sat = 0\n",
    "for i in range(100):\n",
    "    #dat = load_data(\"./data/sat_%06d.npz\" % i)\n",
    "    dat = load_data(new_files[i])\n",
    "    input = prep_data(torch.from_numpy(dat.values))\n",
    "    input = input.cuda()\n",
    "    index = prep_data(torch.from_numpy(dat.index))\n",
    "    enc.index = index\n",
    "    y_sat = dat.y_sat[:,0]\n",
    "    y_sat[y_sat==-1] = 0\n",
    "    target = prep_data(torch.from_numpy(y_sat))\n",
    "    target = target.cuda()\n",
    "    loss_batch = loss_batch + loss(mod(input), target.float())\n",
    "\n",
    "    #print loss(mod(input), target.float())\n",
    "\n",
    "    X_sp = csr_matrix((np.dot(dat.values, np.array([[1], [-1]])).flatten(), \n",
    "                      (dat.index[:, 0],dat.index[:, 1])), \n",
    "                      shape=dat.index.max(axis=0) + 1)\n",
    "    y = mod(input)\n",
    "    y_hat = y.cpu().data.numpy().flatten().round()\n",
    "    y_hat = 1 - 2* y_hat\n",
    "    y_hat = -1 * y_hat\n",
    "    perc_sat += int(is_sat(X_sp, y_hat))\n",
    "print perc_sat / 100."
   ]
  },
  {
   "cell_type": "code",
   "execution_count": 309,
   "metadata": {},
   "outputs": [
    {
     "data": {
      "text/plain": [
       "(20,)"
      ]
     },
     "execution_count": 309,
     "metadata": {},
     "output_type": "execute_result"
    }
   ],
   "source": [
    "y_hat.shape"
   ]
  },
  {
   "cell_type": "code",
   "execution_count": 310,
   "metadata": {},
   "outputs": [
    {
     "data": {
      "text/plain": [
       "array([-1., -1.,  1., -1., -1.,  1.,  1., -1., -1.,  1., -1.,  1.,  1.,\n",
       "       -1.,  1.,  1.,  1.,  1., -1.,  1.], dtype=float32)"
      ]
     },
     "execution_count": 310,
     "metadata": {},
     "output_type": "execute_result"
    }
   ],
   "source": [
    "y_hat"
   ]
  },
  {
   "cell_type": "code",
   "execution_count": 311,
   "metadata": {},
   "outputs": [
    {
     "data": {
      "text/plain": [
       "array([-1,  1, -1, -1, -1, -1,  1,  1, -1,  1, -1, -1,  1,  1, -1,  1,  1,\n",
       "       -1,  1, -1])"
      ]
     },
     "execution_count": 311,
     "metadata": {},
     "output_type": "execute_result"
    }
   ],
   "source": [
    "dat.y_sat[:, 0]"
   ]
  },
  {
   "cell_type": "code",
   "execution_count": 312,
   "metadata": {},
   "outputs": [
    {
     "name": "stdout",
     "output_type": "stream",
     "text": [
      "0 10\n",
      "1 11\n",
      "2 12\n",
      "3 11\n",
      "4 11\n",
      "5 11\n",
      "6 11\n",
      "7 11\n",
      "8 12\n",
      "9 12\n",
      "10 11\n",
      "11 10\n",
      "12 9\n",
      "13 11\n",
      "14 10\n",
      "15 10\n",
      "16 12\n",
      "17 11\n",
      "18 11\n",
      "19 10\n",
      "20 10\n"
     ]
    }
   ],
   "source": [
    "for i in range(21):\n",
    "    print i, np.sum(dat.y_sat[:,i] == y_hat)"
   ]
  },
  {
   "cell_type": "code",
   "execution_count": 284,
   "metadata": {},
   "outputs": [
    {
     "data": {
      "text/plain": [
       "(20, 21)"
      ]
     },
     "execution_count": 284,
     "metadata": {},
     "output_type": "execute_result"
    }
   ],
   "source": [
    "dat.y_sat.shape"
   ]
  },
  {
   "cell_type": "code",
   "execution_count": 273,
   "metadata": {},
   "outputs": [
    {
     "data": {
      "text/plain": [
       "array([-1.,  1., -1., -1., -1., -1., -1., -1., -1., -1.,  1., -1.,  1.,\n",
       "       -1.,  1., -1.,  1., -1., -1., -1.], dtype=float32)"
      ]
     },
     "execution_count": 273,
     "metadata": {},
     "output_type": "execute_result"
    }
   ],
   "source": [
    "y_hat"
   ]
  },
  {
   "cell_type": "code",
   "execution_count": 264,
   "metadata": {},
   "outputs": [],
   "source": [
    "y = mod(input)\n",
    "#torch.log(y) * target.float() + torch.log(1-y) * (1-target.float())"
   ]
  },
  {
   "cell_type": "code",
   "execution_count": 268,
   "metadata": {},
   "outputs": [
    {
     "data": {
      "text/plain": [
       "array([1., 1., 1., 1., 0., 1., 1., 1., 1., 1., 1., 1., 0., 0., 0., 0., 0.,\n",
       "       0., 0., 1.], dtype=float32)"
      ]
     },
     "execution_count": 268,
     "metadata": {},
     "output_type": "execute_result"
    }
   ],
   "source": [
    "y.cpu().data.numpy().flatten().round()"
   ]
  },
  {
   "cell_type": "code",
   "execution_count": 178,
   "metadata": {},
   "outputs": [
    {
     "data": {
      "text/plain": [
       "Variable containing:\n",
       "-1\n",
       " 1\n",
       "-1\n",
       "-1\n",
       " 1\n",
       "-1\n",
       " 1\n",
       "-1\n",
       "-1\n",
       "-1\n",
       " 1\n",
       " 1\n",
       "-1\n",
       "-1\n",
       " 1\n",
       "-1\n",
       "-1\n",
       "-1\n",
       " 1\n",
       " 1\n",
       "[torch.cuda.LongTensor of size 20 (GPU 0)]"
      ]
     },
     "execution_count": 178,
     "metadata": {},
     "output_type": "execute_result"
    }
   ],
   "source": [
    "target"
   ]
  },
  {
   "cell_type": "code",
   "execution_count": 313,
   "metadata": {},
   "outputs": [],
   "source": [
    "from matplotlib import pyplot as plt"
   ]
  },
  {
   "cell_type": "code",
   "execution_count": 314,
   "metadata": {},
   "outputs": [
    {
     "data": {
      "text/plain": [
       "[<matplotlib.lines.Line2D at 0x7f9c49881750>]"
      ]
     },
     "execution_count": 314,
     "metadata": {},
     "output_type": "execute_result"
    },
    {
     "data": {
      "image/png": "[encoded data removed]",
      "text/plain": [
       "<matplotlib.figure.Figure at 0x7f9c4990e810>"
      ]
     },
     "metadata": {},
     "output_type": "display_data"
    }
   ],
   "source": [
    "plt.plot(perf)"
   ]
  },
  {
   "cell_type": "code",
   "execution_count": null,
   "metadata": {},
   "outputs": [],
   "source": []
  }
 ],
 "metadata": {
  "kernelspec": {
   "display_name": "exchtensor",
   "language": "python",
   "name": "exchtensor"
  },
  "language_info": {
   "codemirror_mode": {
    "name": "ipython",
    "version": 2
   },
   "file_extension": ".py",
   "mimetype": "text/x-python",
   "name": "python",
   "nbconvert_exporter": "python",
   "pygments_lexer": "ipython2",
   "version": "2.7.13"
  }
 },
 "nbformat": 4,
 "nbformat_minor": 2
}
